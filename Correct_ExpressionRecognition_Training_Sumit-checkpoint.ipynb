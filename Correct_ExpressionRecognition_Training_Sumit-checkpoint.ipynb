{
 "cells": [
  {
   "cell_type": "code",
   "execution_count": 5,
   "metadata": {
    "colab": {
     "base_uri": "https://localhost:8080/"
    },
    "executionInfo": {
     "elapsed": 1462,
     "status": "ok",
     "timestamp": 1621675100299,
     "user": {
      "displayName": "Sumit Roll no. 109",
      "photoUrl": "https://lh3.googleusercontent.com/a-/AOh14GiLtX-kWa4n7-4D67wmtZ5bKcDiHm95-DtjB9ChvXw=s64",
      "userId": "03777397349419928585"
     },
     "user_tz": -330
    },
    "id": "vLRZasIXVMXA",
    "outputId": "440bdb68-b373-4721-b212-de521ff6470d"
   },
   "outputs": [
    {
     "name": "stdout",
     "output_type": "stream",
     "text": [
      "--2021-05-22 09:18:19--  https://www.dropbox.com/s/si11cws2pyho1bp/archive.zip\n",
      "Resolving www.dropbox.com (www.dropbox.com)... 162.125.6.18, 2620:100:601c:18::a27d:612\n",
      "Connecting to www.dropbox.com (www.dropbox.com)|162.125.6.18|:443... connected.\n",
      "HTTP request sent, awaiting response... 301 Moved Permanently\n",
      "Location: /s/raw/si11cws2pyho1bp/archive.zip [following]\n",
      "--2021-05-22 09:18:19--  https://www.dropbox.com/s/raw/si11cws2pyho1bp/archive.zip\n",
      "Reusing existing connection to www.dropbox.com:443.\n",
      "HTTP request sent, awaiting response... 302 Found\n",
      "Location: https://ucddf1a0e68570408ced07dde8f4.dl.dropboxusercontent.com/cd/0/inline/BO-xHwwhvi1Y7ghRSzYzrD3brEZWxorqahxXZffttwpZoMhj5AEOyt5a9-aiRjzu7ofjpOFOhBEHxc73bR-wsvDwnTpHCTJ1evFwSIEn_20xM0ySpYItUqPFYX0NwvmYjg1MDDTumu6K3Q-FrZ6ocH-H/file# [following]\n",
      "--2021-05-22 09:18:19--  https://ucddf1a0e68570408ced07dde8f4.dl.dropboxusercontent.com/cd/0/inline/BO-xHwwhvi1Y7ghRSzYzrD3brEZWxorqahxXZffttwpZoMhj5AEOyt5a9-aiRjzu7ofjpOFOhBEHxc73bR-wsvDwnTpHCTJ1evFwSIEn_20xM0ySpYItUqPFYX0NwvmYjg1MDDTumu6K3Q-FrZ6ocH-H/file\n",
      "Resolving ucddf1a0e68570408ced07dde8f4.dl.dropboxusercontent.com (ucddf1a0e68570408ced07dde8f4.dl.dropboxusercontent.com)... 162.125.6.15, 2620:100:601c:15::a27d:60f\n",
      "Connecting to ucddf1a0e68570408ced07dde8f4.dl.dropboxusercontent.com (ucddf1a0e68570408ced07dde8f4.dl.dropboxusercontent.com)|162.125.6.15|:443... connected.\n",
      "HTTP request sent, awaiting response... 302 Found\n",
      "Location: /cd/0/inline2/BO8ur53dKfhCqmaMit_5kRGOsHXjCspvUP6mymCY6HB4AJrO1fTMgUm2lWfAHt5P3H6Vbx3bukT4ZBS3KLNxomEBDSce0o_Tq7ZGX0ERrSx0h7ZHSfYYLFJ6az3pi4LRxRo2Q1lAZgOQ-WZl7Ga7CaIQi-BbM-8bUB-BUTxa-J09_AzJLUgo2vFUkEI7IatuzNgITaVl19vl5ZQBQ88gLrd8AGROHzGV1-BTIc8k6umQJl_4dmWte0V4jaHe4Ump3IXN2aGE30u_1Vaugd4Uc0U_OtqcmrhPi3EDgrO-bLqHIsU7f_DVU876BiItTVsT_2o7DgdlqHp38EvHKlMoBP5Ohl2D_lvCTSDmhvWMtOLzlnP08WaMmLtEfTEvUfWWTUc/file [following]\n",
      "--2021-05-22 09:18:19--  https://ucddf1a0e68570408ced07dde8f4.dl.dropboxusercontent.com/cd/0/inline2/BO8ur53dKfhCqmaMit_5kRGOsHXjCspvUP6mymCY6HB4AJrO1fTMgUm2lWfAHt5P3H6Vbx3bukT4ZBS3KLNxomEBDSce0o_Tq7ZGX0ERrSx0h7ZHSfYYLFJ6az3pi4LRxRo2Q1lAZgOQ-WZl7Ga7CaIQi-BbM-8bUB-BUTxa-J09_AzJLUgo2vFUkEI7IatuzNgITaVl19vl5ZQBQ88gLrd8AGROHzGV1-BTIc8k6umQJl_4dmWte0V4jaHe4Ump3IXN2aGE30u_1Vaugd4Uc0U_OtqcmrhPi3EDgrO-bLqHIsU7f_DVU876BiItTVsT_2o7DgdlqHp38EvHKlMoBP5Ohl2D_lvCTSDmhvWMtOLzlnP08WaMmLtEfTEvUfWWTUc/file\n",
      "Reusing existing connection to ucddf1a0e68570408ced07dde8f4.dl.dropboxusercontent.com:443.\n",
      "HTTP request sent, awaiting response... 200 OK\n",
      "Length: 63252113 (60M) [application/zip]\n",
      "Saving to: ‘archive.zip.1’\n",
      "\n",
      "archive.zip.1       100%[===================>]  60.32M   170MB/s    in 0.4s    \n",
      "\n",
      "2021-05-22 09:18:20 (170 MB/s) - ‘archive.zip.1’ saved [63252113/63252113]\n",
      "\n"
     ]
    }
   ],
   "source": [
    "!wget https://www.dropbox.com/s/si11cws2pyho1bp/archive.zip"
   ]
  },
  {
   "cell_type": "code",
   "execution_count": 6,
   "metadata": {
    "executionInfo": {
     "elapsed": 2133,
     "status": "ok",
     "timestamp": 1621675195916,
     "user": {
      "displayName": "Sumit Roll no. 109",
      "photoUrl": "https://lh3.googleusercontent.com/a-/AOh14GiLtX-kWa4n7-4D67wmtZ5bKcDiHm95-DtjB9ChvXw=s64",
      "userId": "03777397349419928585"
     },
     "user_tz": -330
    },
    "id": "ZOaSG9RVXn22"
   },
   "outputs": [],
   "source": [
    "!unzip -q \"/content/archive.zip\""
   ]
  },
  {
   "cell_type": "code",
   "execution_count": 10,
   "metadata": {
    "executionInfo": {
     "elapsed": 385,
     "status": "ok",
     "timestamp": 1621675581940,
     "user": {
      "displayName": "Sumit Roll no. 109",
      "photoUrl": "https://lh3.googleusercontent.com/a-/AOh14GiLtX-kWa4n7-4D67wmtZ5bKcDiHm95-DtjB9ChvXw=s64",
      "userId": "03777397349419928585"
     },
     "user_tz": -330
    },
    "id": "zcpKDfMwYO0f"
   },
   "outputs": [],
   "source": [
    "#import necessery files\n",
    "import tensorflow as tf\n",
    "import numpy as np\n",
    "import matplotlib.pyplot as plt\n",
    "from pathlib import Path \n",
    "\n",
    "tf.random.set_seed(4)\n"
   ]
  },
  {
   "cell_type": "code",
   "execution_count": 13,
   "metadata": {
    "executionInfo": {
     "elapsed": 379,
     "status": "ok",
     "timestamp": 1621676153686,
     "user": {
      "displayName": "Sumit Roll no. 109",
      "photoUrl": "https://lh3.googleusercontent.com/a-/AOh14GiLtX-kWa4n7-4D67wmtZ5bKcDiHm95-DtjB9ChvXw=s64",
      "userId": "03777397349419928585"
     },
     "user_tz": -330
    },
    "id": "hBpp5bFKbMfp"
   },
   "outputs": [],
   "source": [
    "#Creating the Pathlib path object \n",
    "train_path = Path(\"/content/train\")\n",
    "test_path = Path(\"/content/test\")"
   ]
  },
  {
   "cell_type": "code",
   "execution_count": 14,
   "metadata": {
    "colab": {
     "base_uri": "https://localhost:8080/"
    },
    "executionInfo": {
     "elapsed": 395,
     "status": "ok",
     "timestamp": 1621676163232,
     "user": {
      "displayName": "Sumit Roll no. 109",
      "photoUrl": "https://lh3.googleusercontent.com/a-/AOh14GiLtX-kWa4n7-4D67wmtZ5bKcDiHm95-DtjB9ChvXw=s64",
      "userId": "03777397349419928585"
     },
     "user_tz": -330
    },
    "id": "e_O41XPlbmVm",
    "outputId": "0b73e3d3-b499-4632-a96c-0409defc99f8"
   },
   "outputs": [
    {
     "data": {
      "text/plain": [
       "['/content/train/fear/Training_76183888.jpg',\n",
       " '/content/train/fear/Training_12854167.jpg',\n",
       " '/content/train/fear/Training_34156894.jpg',\n",
       " '/content/train/fear/Training_2684473.jpg',\n",
       " '/content/train/fear/Training_51347292.jpg',\n",
       " '/content/train/fear/Training_70238279.jpg',\n",
       " '/content/train/fear/Training_98749945.jpg',\n",
       " '/content/train/fear/Training_72829778.jpg',\n",
       " '/content/train/fear/Training_55708381.jpg',\n",
       " '/content/train/fear/Training_49109639.jpg']"
      ]
     },
     "execution_count": 14,
     "metadata": {
      "tags": []
     },
     "output_type": "execute_result"
    }
   ],
   "source": [
    "#Getting image paths \n",
    "train_image_paths = list(train_path.glob(\"*/*\"))\n",
    "train_image_paths = list(map(lambda x : str(x) , train_image_paths))\n",
    "\n",
    "train_image_paths[:10]"
   ]
  },
  {
   "cell_type": "code",
   "execution_count": 15,
   "metadata": {
    "colab": {
     "base_uri": "https://localhost:8080/"
    },
    "executionInfo": {
     "elapsed": 445,
     "status": "ok",
     "timestamp": 1621676948820,
     "user": {
      "displayName": "Sumit Roll no. 109",
      "photoUrl": "https://lh3.googleusercontent.com/a-/AOh14GiLtX-kWa4n7-4D67wmtZ5bKcDiHm95-DtjB9ChvXw=s64",
      "userId": "03777397349419928585"
     },
     "user_tz": -330
    },
    "id": "eqP6zNEGb6ZK",
    "outputId": "99b29a98-aa97-42a8-eca9-a7b882d7d8ef"
   },
   "outputs": [
    {
     "data": {
      "text/plain": [
       "['fear',\n",
       " 'fear',\n",
       " 'fear',\n",
       " 'fear',\n",
       " 'fear',\n",
       " 'fear',\n",
       " 'fear',\n",
       " 'fear',\n",
       " 'fear',\n",
       " 'fear']"
      ]
     },
     "execution_count": 15,
     "metadata": {
      "tags": []
     },
     "output_type": "execute_result"
    }
   ],
   "source": [
    "#Getting their respective labels\n",
    "\n",
    "def get_label(image_path):\n",
    "  return image_path.split(\"/\")[-2]\n",
    "\n",
    "train_image_labels = list(map(lambda x: get_label(x) , train_image_paths ))\n",
    "train_image_labels[:10]  \n",
    "\n"
   ]
  },
  {
   "cell_type": "code",
   "execution_count": 17,
   "metadata": {
    "colab": {
     "base_uri": "https://localhost:8080/"
    },
    "executionInfo": {
     "elapsed": 1939,
     "status": "ok",
     "timestamp": 1621677546656,
     "user": {
      "displayName": "Sumit Roll no. 109",
      "photoUrl": "https://lh3.googleusercontent.com/a-/AOh14GiLtX-kWa4n7-4D67wmtZ5bKcDiHm95-DtjB9ChvXw=s64",
      "userId": "03777397349419928585"
     },
     "user_tz": -330
    },
    "id": "bqki9imlgSY_",
    "outputId": "4593c10e-d3b5-4909-d325-86517947cb4e"
   },
   "outputs": [
    {
     "data": {
      "text/plain": [
       "array([2, 2, 2, 2, 2, 2, 2, 2, 2, 2])"
      ]
     },
     "execution_count": 17,
     "metadata": {
      "tags": []
     },
     "output_type": "execute_result"
    }
   ],
   "source": [
    "from sklearn.preprocessing import LabelEncoder\n",
    "\n",
    "Le = LabelEncoder()\n",
    "train_image_labels = Le.fit_transform(train_image_labels)\n",
    "\n",
    "train_image_labels[:10]"
   ]
  },
  {
   "cell_type": "code",
   "execution_count": 18,
   "metadata": {
    "colab": {
     "base_uri": "https://localhost:8080/"
    },
    "executionInfo": {
     "elapsed": 362,
     "status": "ok",
     "timestamp": 1621677765823,
     "user": {
      "displayName": "Sumit Roll no. 109",
      "photoUrl": "https://lh3.googleusercontent.com/a-/AOh14GiLtX-kWa4n7-4D67wmtZ5bKcDiHm95-DtjB9ChvXw=s64",
      "userId": "03777397349419928585"
     },
     "user_tz": -330
    },
    "id": "TeDSpyovhTs3",
    "outputId": "2123d30a-6b1d-406d-de86-adc27cb9fc52"
   },
   "outputs": [
    {
     "data": {
      "text/plain": [
       "array([[0., 0., 1., 0., 0., 0., 0.],\n",
       "       [0., 0., 1., 0., 0., 0., 0.],\n",
       "       [0., 0., 1., 0., 0., 0., 0.],\n",
       "       [0., 0., 1., 0., 0., 0., 0.],\n",
       "       [0., 0., 1., 0., 0., 0., 0.],\n",
       "       [0., 0., 1., 0., 0., 0., 0.],\n",
       "       [0., 0., 1., 0., 0., 0., 0.],\n",
       "       [0., 0., 1., 0., 0., 0., 0.],\n",
       "       [0., 0., 1., 0., 0., 0., 0.],\n",
       "       [0., 0., 1., 0., 0., 0., 0.]], dtype=float32)"
      ]
     },
     "execution_count": 18,
     "metadata": {
      "tags": []
     },
     "output_type": "execute_result"
    }
   ],
   "source": [
    "train_image_labels = tf.keras.utils.to_categorical(train_image_labels)\n",
    "\n",
    "train_image_labels[:10]"
   ]
  },
  {
   "cell_type": "code",
   "execution_count": 19,
   "metadata": {
    "executionInfo": {
     "elapsed": 625,
     "status": "ok",
     "timestamp": 1621678123314,
     "user": {
      "displayName": "Sumit Roll no. 109",
      "photoUrl": "https://lh3.googleusercontent.com/a-/AOh14GiLtX-kWa4n7-4D67wmtZ5bKcDiHm95-DtjB9ChvXw=s64",
      "userId": "03777397349419928585"
     },
     "user_tz": -330
    },
    "id": "DfmD6thSjFZv"
   },
   "outputs": [],
   "source": [
    "from sklearn.model_selection import train_test_split \n",
    "\n",
    "Train_paths , Val_paths , Train_labels , Val_labels = train_test_split(train_image_paths , train_image_labels , test_size = 0.25)\n"
   ]
  },
  {
   "cell_type": "code",
   "execution_count": 20,
   "metadata": {
    "colab": {
     "base_uri": "https://localhost:8080/"
    },
    "executionInfo": {
     "elapsed": 365,
     "status": "ok",
     "timestamp": 1621678345726,
     "user": {
      "displayName": "Sumit Roll no. 109",
      "photoUrl": "https://lh3.googleusercontent.com/a-/AOh14GiLtX-kWa4n7-4D67wmtZ5bKcDiHm95-DtjB9ChvXw=s64",
      "userId": "03777397349419928585"
     },
     "user_tz": -330
    },
    "id": "FLCz0wfBjYr2",
    "outputId": "8602fd48-383b-4f6e-9e81-d9ba4700f959"
   },
   "outputs": [
    {
     "name": "stdout",
     "output_type": "stream",
     "text": [
      "{0: 1.8374748, 1: 16.581818, 2: 1.7952756, 3: 1.0, 4: 1.485342, 5: 1.5016465, 6: 2.304}\n"
     ]
    }
   ],
   "source": [
    "# Compute class weights \n",
    "\n",
    "classTotals = Train_labels.sum(axis=0)\n",
    "classWeight = classTotals.max() / classTotals\n",
    "\n",
    "class_weight = {e : weight for e , weight in enumerate(classWeight)}\n",
    "print(class_weight)"
   ]
  },
  {
   "cell_type": "code",
   "execution_count": 21,
   "metadata": {
    "executionInfo": {
     "elapsed": 377,
     "status": "ok",
     "timestamp": 1621678639887,
     "user": {
      "displayName": "Sumit Roll no. 109",
      "photoUrl": "https://lh3.googleusercontent.com/a-/AOh14GiLtX-kWa4n7-4D67wmtZ5bKcDiHm95-DtjB9ChvXw=s64",
      "userId": "03777397349419928585"
     },
     "user_tz": -330
    },
    "id": "WayfB4DUlwwP"
   },
   "outputs": [],
   "source": [
    "# Function used for Transformation\n",
    "\n",
    "def load(image , label):\n",
    "    image = tf.io.read_file(image)\n",
    "    image = tf.io.decode_jpeg(image , channels = 3)\n",
    "    return image , label"
   ]
  },
  {
   "cell_type": "code",
   "execution_count": 22,
   "metadata": {
    "executionInfo": {
     "elapsed": 6084,
     "status": "ok",
     "timestamp": 1621678845168,
     "user": {
      "displayName": "Sumit Roll no. 109",
      "photoUrl": "https://lh3.googleusercontent.com/a-/AOh14GiLtX-kWa4n7-4D67wmtZ5bKcDiHm95-DtjB9ChvXw=s64",
      "userId": "03777397349419928585"
     },
     "user_tz": -330
    },
    "id": "4oJwdwPnR2iI"
   },
   "outputs": [],
   "source": [
    "# Define IMAGE SIZE and BATCH SIZE \n",
    "IMG_SIZE = 96 \n",
    "BATCH_SIZE = 32\n",
    "\n",
    "# Basic Transformation\n",
    "resize = tf.keras.Sequential([\n",
    "    tf.keras.layers.experimental.preprocessing.Resizing(IMG_SIZE, IMG_SIZE)          \n",
    "])\n",
    "\n",
    "# Data Augmentation\n",
    "data_augmentation = tf.keras.Sequential([\n",
    "    tf.keras.layers.experimental.preprocessing.RandomFlip(\"horizontal\"),\n",
    "    tf.keras.layers.experimental.preprocessing.RandomRotation(0.1),\n",
    "    tf.keras.layers.experimental.preprocessing.RandomZoom(height_factor = (-0.1, -0.05))\n",
    "])"
   ]
  },
  {
   "cell_type": "code",
   "execution_count": 23,
   "metadata": {
    "executionInfo": {
     "elapsed": 389,
     "status": "ok",
     "timestamp": 1621679071480,
     "user": {
      "displayName": "Sumit Roll no. 109",
      "photoUrl": "https://lh3.googleusercontent.com/a-/AOh14GiLtX-kWa4n7-4D67wmtZ5bKcDiHm95-DtjB9ChvXw=s64",
      "userId": "03777397349419928585"
     },
     "user_tz": -330
    },
    "id": "rR4A_FLKl9Cp"
   },
   "outputs": [],
   "source": [
    "# Function used to Create a Tensorflow Data Object\n",
    "AUTOTUNE = tf.data.experimental.AUTOTUNE\n",
    "def get_dataset(paths , labels , train = True):\n",
    "    image_paths = tf.convert_to_tensor(paths)\n",
    "    labels = tf.convert_to_tensor(labels)\n",
    "\n",
    "    image_dataset = tf.data.Dataset.from_tensor_slices(image_paths)\n",
    "    label_dataset = tf.data.Dataset.from_tensor_slices(labels)\n",
    "\n",
    "    dataset = tf.data.Dataset.zip((image_dataset , label_dataset))\n",
    "\n",
    "    dataset = dataset.map(lambda image , label : load(image , label))\n",
    "    dataset = dataset.map(lambda image, label: (resize(image), label) , num_parallel_calls=AUTOTUNE)\n",
    "    dataset = dataset.shuffle(1000)\n",
    "    dataset = dataset.batch(BATCH_SIZE)\n",
    "\n",
    "    if train:\n",
    "        dataset = dataset.map(lambda image, label: (data_augmentation(image), label) , num_parallel_calls=AUTOTUNE)\n",
    "    \n",
    "    dataset = dataset.repeat()\n",
    "    return dataset"
   ]
  },
  {
   "cell_type": "code",
   "execution_count": 24,
   "metadata": {
    "colab": {
     "base_uri": "https://localhost:8080/"
    },
    "executionInfo": {
     "elapsed": 1189,
     "status": "ok",
     "timestamp": 1621679182046,
     "user": {
      "displayName": "Sumit Roll no. 109",
      "photoUrl": "https://lh3.googleusercontent.com/a-/AOh14GiLtX-kWa4n7-4D67wmtZ5bKcDiHm95-DtjB9ChvXw=s64",
      "userId": "03777397349419928585"
     },
     "user_tz": -330
    },
    "id": "l2B0LdC2nHYp",
    "outputId": "eb97019c-dfc1-4e43-e1e0-294649c7483f"
   },
   "outputs": [
    {
     "name": "stdout",
     "output_type": "stream",
     "text": [
      "CPU times: user 304 ms, sys: 5.88 ms, total: 310 ms\n",
      "Wall time: 360 ms\n",
      "(32, 96, 96, 3)\n",
      "(32, 7)\n"
     ]
    }
   ],
   "source": [
    "# Creating Train Dataset object and Verifying it\n",
    "%time train_dataset = get_dataset(Train_paths , Train_labels)\n",
    "\n",
    "image , label = next(iter(train_dataset))\n",
    "print(image.shape)\n",
    "print(label.shape)"
   ]
  },
  {
   "cell_type": "code",
   "execution_count": 25,
   "metadata": {
    "colab": {
     "base_uri": "https://localhost:8080/",
     "height": 302
    },
    "executionInfo": {
     "elapsed": 1297,
     "status": "ok",
     "timestamp": 1621679251812,
     "user": {
      "displayName": "Sumit Roll no. 109",
      "photoUrl": "https://lh3.googleusercontent.com/a-/AOh14GiLtX-kWa4n7-4D67wmtZ5bKcDiHm95-DtjB9ChvXw=s64",
      "userId": "03777397349419928585"
     },
     "user_tz": -330
    },
    "id": "8F_P5e3lnZA2",
    "outputId": "bffdb6c7-a19b-4d50-e0e3-99b4607f57c2"
   },
   "outputs": [
    {
     "name": "stdout",
     "output_type": "stream",
     "text": [
      "happy\n"
     ]
    },
    {
     "data": {
      "text/plain": [
       "<matplotlib.image.AxesImage at 0x7f23a8137190>"
      ]
     },
     "execution_count": 25,
     "metadata": {
      "tags": []
     },
     "output_type": "execute_result"
    },
    {
     "data": {
      "image/png": "[encoded data removed]",
      "text/plain": [
       "<Figure size 432x288 with 1 Axes>"
      ]
     },
     "metadata": {
      "needs_background": "light",
      "tags": []
     },
     "output_type": "display_data"
    }
   ],
   "source": [
    "# View a sample Training Image\n",
    "print(Le.inverse_transform(np.argmax(label , axis = 1))[0])\n",
    "plt.imshow((image[0].numpy()/255).reshape(96 , 96 , 3))"
   ]
  },
  {
   "cell_type": "code",
   "execution_count": 26,
   "metadata": {
    "colab": {
     "base_uri": "https://localhost:8080/"
    },
    "executionInfo": {
     "elapsed": 1041,
     "status": "ok",
     "timestamp": 1621679324363,
     "user": {
      "displayName": "Sumit Roll no. 109",
      "photoUrl": "https://lh3.googleusercontent.com/a-/AOh14GiLtX-kWa4n7-4D67wmtZ5bKcDiHm95-DtjB9ChvXw=s64",
      "userId": "03777397349419928585"
     },
     "user_tz": -330
    },
    "id": "pNu8XlXZnpWH",
    "outputId": "1b498624-a34d-4401-9856-84365b43558f"
   },
   "outputs": [
    {
     "name": "stdout",
     "output_type": "stream",
     "text": [
      "CPU times: user 21.3 ms, sys: 221 µs, total: 21.6 ms\n",
      "Wall time: 24.1 ms\n",
      "(32, 96, 96, 3)\n",
      "(32, 7)\n"
     ]
    }
   ],
   "source": [
    "%time val_dataset = get_dataset(Val_paths , Val_labels , train = False)\n",
    "\n",
    "image , label = next(iter(val_dataset))\n",
    "print(image.shape)\n",
    "print(label.shape)"
   ]
  },
  {
   "cell_type": "code",
   "execution_count": 27,
   "metadata": {
    "colab": {
     "base_uri": "https://localhost:8080/"
    },
    "executionInfo": {
     "elapsed": 3918,
     "status": "ok",
     "timestamp": 1621679870500,
     "user": {
      "displayName": "Sumit Roll no. 109",
      "photoUrl": "https://lh3.googleusercontent.com/a-/AOh14GiLtX-kWa4n7-4D67wmtZ5bKcDiHm95-DtjB9ChvXw=s64",
      "userId": "03777397349419928585"
     },
     "user_tz": -330
    },
    "id": "En0ZtyO_pvKH",
    "outputId": "d9ca7b5f-1b5d-419b-e0cd-08f1599ad197"
   },
   "outputs": [
    {
     "name": "stdout",
     "output_type": "stream",
     "text": [
      "Downloading data from https://storage.googleapis.com/keras-applications/efficientnetb2_notop.h5\n",
      "31793152/31790344 [==============================] - 0s 0us/step\n",
      "Model: \"sequential_2\"\n",
      "_________________________________________________________________\n",
      "Layer (type)                 Output Shape              Param #   \n",
      "=================================================================\n",
      "efficientnetb2 (Functional)  (None, 3, 3, 1408)        7768569   \n",
      "_________________________________________________________________\n",
      "global_average_pooling2d (Gl (None, 1408)              0         \n",
      "_________________________________________________________________\n",
      "dropout (Dropout)            (None, 1408)              0         \n",
      "_________________________________________________________________\n",
      "dense (Dense)                (None, 128)               180352    \n",
      "_________________________________________________________________\n",
      "dense_1 (Dense)              (None, 7)                 903       \n",
      "=================================================================\n",
      "Total params: 7,949,824\n",
      "Trainable params: 7,882,249\n",
      "Non-trainable params: 67,575\n",
      "_________________________________________________________________\n"
     ]
    }
   ],
   "source": [
    "# Building EfficientNet model\n",
    "from tensorflow.keras.applications import EfficientNetB2\n",
    "\n",
    "backbone = EfficientNetB2(\n",
    "    input_shape=(96, 96, 3),\n",
    "    include_top=False\n",
    ")\n",
    "\n",
    "model = tf.keras.Sequential([\n",
    "    backbone,\n",
    "    tf.keras.layers.GlobalAveragePooling2D(),\n",
    "    tf.keras.layers.Dropout(0.3),\n",
    "    tf.keras.layers.Dense(128, activation='relu'),\n",
    "    tf.keras.layers.Dense(7, activation='softmax')\n",
    "])\n",
    "\n",
    "model.summary()"
   ]
  },
  {
   "cell_type": "code",
   "execution_count": 28,
   "metadata": {
    "executionInfo": {
     "elapsed": 623,
     "status": "ok",
     "timestamp": 1621679944121,
     "user": {
      "displayName": "Sumit Roll no. 109",
      "photoUrl": "https://lh3.googleusercontent.com/a-/AOh14GiLtX-kWa4n7-4D67wmtZ5bKcDiHm95-DtjB9ChvXw=s64",
      "userId": "03777397349419928585"
     },
     "user_tz": -330
    },
    "id": "crnP0rolUy0O"
   },
   "outputs": [],
   "source": [
    "# Compiling your model by providing the Optimizer , Loss and Metrics\n",
    "model.compile(\n",
    "    optimizer=tf.keras.optimizers.Adam(learning_rate=0.001, beta_1=0.9, beta_2=0.999, epsilon=1e-07),\n",
    "    loss = 'categorical_crossentropy',\n",
    "    metrics=['accuracy' , tf.keras.metrics.Precision(name='precision'),tf.keras.metrics.Recall(name='recall')]\n",
    ")"
   ]
  },
  {
   "cell_type": "code",
   "execution_count": 29,
   "metadata": {
    "colab": {
     "base_uri": "https://localhost:8080/"
    },
    "executionInfo": {
     "elapsed": 1134006,
     "status": "ok",
     "timestamp": 1621681178344,
     "user": {
      "displayName": "Sumit Roll no. 109",
      "photoUrl": "https://lh3.googleusercontent.com/a-/AOh14GiLtX-kWa4n7-4D67wmtZ5bKcDiHm95-DtjB9ChvXw=s64",
      "userId": "03777397349419928585"
     },
     "user_tz": -330
    },
    "id": "UCyafa5hqVbG",
    "outputId": "25dd8bda-9a7b-4739-84d0-800e9bcd4ced"
   },
   "outputs": [
    {
     "name": "stdout",
     "output_type": "stream",
     "text": [
      "Epoch 1/12\n",
      "672/672 [==============================] - 136s 138ms/step - loss: 3.1365 - accuracy: 0.3255 - precision: 0.5559 - recall: 0.1259 - val_loss: 1.3500 - val_accuracy: 0.4955 - val_precision: 0.7390 - val_recall: 0.2919\n",
      "Epoch 2/12\n",
      "672/672 [==============================] - 93s 136ms/step - loss: 2.5034 - accuracy: 0.4808 - precision: 0.6848 - recall: 0.2680 - val_loss: 1.2320 - val_accuracy: 0.5456 - val_precision: 0.6974 - val_recall: 0.3945\n",
      "Epoch 3/12\n",
      "672/672 [==============================] - 90s 134ms/step - loss: 2.2770 - accuracy: 0.5157 - precision: 0.7057 - recall: 0.3275 - val_loss: 1.2031 - val_accuracy: 0.5398 - val_precision: 0.6777 - val_recall: 0.3871\n",
      "Epoch 4/12\n",
      "672/672 [==============================] - 91s 136ms/step - loss: 2.1334 - accuracy: 0.5471 - precision: 0.7092 - recall: 0.3712 - val_loss: 1.1930 - val_accuracy: 0.5505 - val_precision: 0.6714 - val_recall: 0.4241\n",
      "Epoch 5/12\n",
      "672/672 [==============================] - 91s 135ms/step - loss: 2.1042 - accuracy: 0.5458 - precision: 0.7061 - recall: 0.3677 - val_loss: 1.1601 - val_accuracy: 0.5545 - val_precision: 0.7022 - val_recall: 0.3961\n",
      "Epoch 6/12\n",
      "672/672 [==============================] - 91s 135ms/step - loss: 1.9972 - accuracy: 0.5693 - precision: 0.7154 - recall: 0.3968 - val_loss: 1.1603 - val_accuracy: 0.5636 - val_precision: 0.6876 - val_recall: 0.4378\n",
      "Epoch 7/12\n",
      "672/672 [==============================] - 91s 135ms/step - loss: 1.9529 - accuracy: 0.5850 - precision: 0.7285 - recall: 0.4132 - val_loss: 1.0818 - val_accuracy: 0.5933 - val_precision: 0.7144 - val_recall: 0.4697\n",
      "Epoch 8/12\n",
      "672/672 [==============================] - 91s 135ms/step - loss: 1.8921 - accuracy: 0.5882 - precision: 0.7274 - recall: 0.4361 - val_loss: 1.1728 - val_accuracy: 0.5707 - val_precision: 0.6808 - val_recall: 0.4492\n",
      "Epoch 9/12\n",
      "672/672 [==============================] - 91s 135ms/step - loss: 1.9003 - accuracy: 0.5818 - precision: 0.7293 - recall: 0.4236 - val_loss: 1.0822 - val_accuracy: 0.5974 - val_precision: 0.6953 - val_recall: 0.4862\n",
      "Epoch 10/12\n",
      "672/672 [==============================] - 90s 135ms/step - loss: 1.8158 - accuracy: 0.5986 - precision: 0.7257 - recall: 0.4498 - val_loss: 1.1814 - val_accuracy: 0.5801 - val_precision: 0.6803 - val_recall: 0.4608\n",
      "Epoch 11/12\n",
      "672/672 [==============================] - 90s 134ms/step - loss: 1.8123 - accuracy: 0.5997 - precision: 0.7287 - recall: 0.4503 - val_loss: 1.0554 - val_accuracy: 0.6105 - val_precision: 0.7080 - val_recall: 0.5043\n",
      "Epoch 12/12\n",
      "672/672 [==============================] - 90s 134ms/step - loss: 1.7380 - accuracy: 0.6215 - precision: 0.7415 - recall: 0.4830 - val_loss: 1.0514 - val_accuracy: 0.6131 - val_precision: 0.6984 - val_recall: 0.5220\n"
     ]
    }
   ],
   "source": [
    "# Train the model\n",
    "history = model.fit(\n",
    "    train_dataset,\n",
    "    steps_per_epoch=len(Train_paths)//BATCH_SIZE,\n",
    "    epochs=12,\n",
    "    validation_data=val_dataset,\n",
    "    validation_steps = len(Val_paths)//BATCH_SIZE,\n",
    "    class_weight=class_weight\n",
    ")"
   ]
  },
  {
   "cell_type": "code",
   "execution_count": 30,
   "metadata": {
    "executionInfo": {
     "elapsed": 514,
     "status": "ok",
     "timestamp": 1621681276564,
     "user": {
      "displayName": "Sumit Roll no. 109",
      "photoUrl": "https://lh3.googleusercontent.com/a-/AOh14GiLtX-kWa4n7-4D67wmtZ5bKcDiHm95-DtjB9ChvXw=s64",
      "userId": "03777397349419928585"
     },
     "user_tz": -330
    },
    "id": "28vylx4DyDBS"
   },
   "outputs": [],
   "source": [
    "model.layers[0].trainable = False"
   ]
  },
  {
   "cell_type": "code",
   "execution_count": 32,
   "metadata": {
    "executionInfo": {
     "elapsed": 408,
     "status": "ok",
     "timestamp": 1621681474548,
     "user": {
      "displayName": "Sumit Roll no. 109",
      "photoUrl": "https://lh3.googleusercontent.com/a-/AOh14GiLtX-kWa4n7-4D67wmtZ5bKcDiHm95-DtjB9ChvXw=s64",
      "userId": "03777397349419928585"
     },
     "user_tz": -330
    },
    "id": "U8r6G0RVU3c2"
   },
   "outputs": [],
   "source": [
    "# Defining our callbacks \n",
    "checkpoint = tf.keras.callbacks.ModelCheckpoint(\"best_weights.h5\",verbose=1,save_best_only=True,save_weights_only = True)\n",
    "early_stop = tf.keras.callbacks.EarlyStopping(patience=4)"
   ]
  },
  {
   "cell_type": "code",
   "execution_count": 33,
   "metadata": {
    "colab": {
     "base_uri": "https://localhost:8080/"
    },
    "executionInfo": {
     "elapsed": 718,
     "status": "ok",
     "timestamp": 1621681553299,
     "user": {
      "displayName": "Sumit Roll no. 109",
      "photoUrl": "https://lh3.googleusercontent.com/a-/AOh14GiLtX-kWa4n7-4D67wmtZ5bKcDiHm95-DtjB9ChvXw=s64",
      "userId": "03777397349419928585"
     },
     "user_tz": -330
    },
    "id": "JDLQsEp5v8yR",
    "outputId": "6eb9644c-c483-4213-e993-2acaf65a782e"
   },
   "outputs": [
    {
     "name": "stdout",
     "output_type": "stream",
     "text": [
      "Model: \"sequential_2\"\n",
      "_________________________________________________________________\n",
      "Layer (type)                 Output Shape              Param #   \n",
      "=================================================================\n",
      "efficientnetb2 (Functional)  (None, 3, 3, 1408)        7768569   \n",
      "_________________________________________________________________\n",
      "global_average_pooling2d (Gl (None, 1408)              0         \n",
      "_________________________________________________________________\n",
      "dropout (Dropout)            (None, 1408)              0         \n",
      "_________________________________________________________________\n",
      "dense (Dense)                (None, 128)               180352    \n",
      "_________________________________________________________________\n",
      "dense_1 (Dense)              (None, 7)                 903       \n",
      "=================================================================\n",
      "Total params: 7,949,824\n",
      "Trainable params: 181,255\n",
      "Non-trainable params: 7,768,569\n",
      "_________________________________________________________________\n"
     ]
    }
   ],
   "source": [
    "model.summary()"
   ]
  },
  {
   "cell_type": "code",
   "execution_count": 34,
   "metadata": {
    "colab": {
     "base_uri": "https://localhost:8080/"
    },
    "executionInfo": {
     "elapsed": 729580,
     "status": "ok",
     "timestamp": 1621682658044,
     "user": {
      "displayName": "Sumit Roll no. 109",
      "photoUrl": "https://lh3.googleusercontent.com/a-/AOh14GiLtX-kWa4n7-4D67wmtZ5bKcDiHm95-DtjB9ChvXw=s64",
      "userId": "03777397349419928585"
     },
     "user_tz": -330
    },
    "id": "wHWrT_MtxmZl",
    "outputId": "46d2d86f-c30a-4176-c433-5c0ab4fd71cc"
   },
   "outputs": [
    {
     "name": "stdout",
     "output_type": "stream",
     "text": [
      "Epoch 1/8\n",
      "672/672 [==============================] - 91s 135ms/step - loss: 1.6799 - accuracy: 0.6282 - precision: 0.7445 - recall: 0.4939 - val_loss: 1.0626 - val_accuracy: 0.6083 - val_precision: 0.6923 - val_recall: 0.5179\n",
      "\n",
      "Epoch 00001: val_loss improved from inf to 1.06262, saving model to best_weights.h5\n",
      "Epoch 2/8\n",
      "672/672 [==============================] - 92s 137ms/step - loss: 1.6506 - accuracy: 0.6329 - precision: 0.7473 - recall: 0.5040 - val_loss: 1.2031 - val_accuracy: 0.5703 - val_precision: 0.6736 - val_recall: 0.4414\n",
      "\n",
      "Epoch 00002: val_loss did not improve from 1.06262\n",
      "Epoch 3/8\n",
      "672/672 [==============================] - 91s 135ms/step - loss: 1.6233 - accuracy: 0.6430 - precision: 0.7531 - recall: 0.5158 - val_loss: 1.0852 - val_accuracy: 0.6110 - val_precision: 0.6984 - val_recall: 0.5152\n",
      "\n",
      "Epoch 00003: val_loss did not improve from 1.06262\n",
      "Epoch 4/8\n",
      "672/672 [==============================] - 90s 135ms/step - loss: 1.5671 - accuracy: 0.6553 - precision: 0.7568 - recall: 0.5384 - val_loss: 1.0534 - val_accuracy: 0.6264 - val_precision: 0.7077 - val_recall: 0.5347\n",
      "\n",
      "Epoch 00004: val_loss improved from 1.06262 to 1.05339, saving model to best_weights.h5\n",
      "Epoch 5/8\n",
      "672/672 [==============================] - 90s 135ms/step - loss: 1.5545 - accuracy: 0.6552 - precision: 0.7597 - recall: 0.5378 - val_loss: 1.0240 - val_accuracy: 0.6313 - val_precision: 0.7136 - val_recall: 0.5565\n",
      "\n",
      "Epoch 00005: val_loss improved from 1.05339 to 1.02395, saving model to best_weights.h5\n",
      "Epoch 6/8\n",
      "672/672 [==============================] - 91s 135ms/step - loss: 1.5132 - accuracy: 0.6611 - precision: 0.7593 - recall: 0.5491 - val_loss: 1.0602 - val_accuracy: 0.6274 - val_precision: 0.6877 - val_recall: 0.5632\n",
      "\n",
      "Epoch 00006: val_loss did not improve from 1.02395\n",
      "Epoch 7/8\n",
      "672/672 [==============================] - 91s 136ms/step - loss: 1.4978 - accuracy: 0.6640 - precision: 0.7632 - recall: 0.5554 - val_loss: 1.0857 - val_accuracy: 0.6226 - val_precision: 0.6844 - val_recall: 0.5541\n",
      "\n",
      "Epoch 00007: val_loss did not improve from 1.02395\n",
      "Epoch 8/8\n",
      "672/672 [==============================] - 91s 135ms/step - loss: 1.4227 - accuracy: 0.6751 - precision: 0.7710 - recall: 0.5751 - val_loss: 1.0554 - val_accuracy: 0.6205 - val_precision: 0.6945 - val_recall: 0.5544\n",
      "\n",
      "Epoch 00008: val_loss did not improve from 1.02395\n"
     ]
    }
   ],
   "source": [
    "# Train the model\n",
    "history = model.fit(\n",
    "    train_dataset,\n",
    "    steps_per_epoch=len(Train_paths)//BATCH_SIZE,\n",
    "    epochs=8,\n",
    "    callbacks=[checkpoint , early_stop],\n",
    "    validation_data=val_dataset,\n",
    "    validation_steps = len(Val_paths)//BATCH_SIZE,\n",
    "    class_weight=class_weight\n",
    ")"
   ]
  },
  {
   "cell_type": "markdown",
   "metadata": {
    "id": "vHj5P0Rw2ZLj"
   },
   "source": [
    "TESTING PHASE"
   ]
  },
  {
   "cell_type": "code",
   "execution_count": 35,
   "metadata": {
    "executionInfo": {
     "elapsed": 3229,
     "status": "ok",
     "timestamp": 1621683224075,
     "user": {
      "displayName": "Sumit Roll no. 109",
      "photoUrl": "https://lh3.googleusercontent.com/a-/AOh14GiLtX-kWa4n7-4D67wmtZ5bKcDiHm95-DtjB9ChvXw=s64",
      "userId": "03777397349419928585"
     },
     "user_tz": -330
    },
    "id": "fDv0YPun2eXL"
   },
   "outputs": [],
   "source": [
    "from tensorflow.keras.applications import EfficientNetB2\n",
    "\n",
    "backbone = EfficientNetB2(\n",
    "    input_shape=(96, 96, 3),\n",
    "    include_top=False\n",
    ")\n",
    "\n",
    "model = tf.keras.Sequential([\n",
    "    backbone,\n",
    "    tf.keras.layers.GlobalAveragePooling2D(),\n",
    "    tf.keras.layers.Dropout(0.3),\n",
    "    tf.keras.layers.Dense(128, activation='relu'),\n",
    "    tf.keras.layers.Dense(7, activation='softmax')\n",
    "])\n",
    "\n",
    "model.compile(\n",
    "    optimizer=tf.keras.optimizers.Adam(learning_rate=0.001, beta_1=0.9, beta_2=0.999, epsilon=1e-07),\n",
    "    loss = 'categorical_crossentropy',\n",
    "    metrics=['accuracy' , tf.keras.metrics.Precision(name='precision'),tf.keras.metrics.Recall(name='recall')]\n",
    ")"
   ]
  },
  {
   "cell_type": "code",
   "execution_count": 36,
   "metadata": {
    "executionInfo": {
     "elapsed": 430,
     "status": "ok",
     "timestamp": 1621683238142,
     "user": {
      "displayName": "Sumit Roll no. 109",
      "photoUrl": "https://lh3.googleusercontent.com/a-/AOh14GiLtX-kWa4n7-4D67wmtZ5bKcDiHm95-DtjB9ChvXw=s64",
      "userId": "03777397349419928585"
     },
     "user_tz": -330
    },
    "id": "kh91u_fgyKyL"
   },
   "outputs": [],
   "source": [
    "model.load_weights(\"best_weights.h5\")"
   ]
  },
  {
   "cell_type": "code",
   "execution_count": 37,
   "metadata": {
    "executionInfo": {
     "elapsed": 563,
     "status": "ok",
     "timestamp": 1621683392362,
     "user": {
      "displayName": "Sumit Roll no. 109",
      "photoUrl": "https://lh3.googleusercontent.com/a-/AOh14GiLtX-kWa4n7-4D67wmtZ5bKcDiHm95-DtjB9ChvXw=s64",
      "userId": "03777397349419928585"
     },
     "user_tz": -330
    },
    "id": "zaIUk_NRVJVJ"
   },
   "outputs": [],
   "source": [
    "# Create a Dataset Object for 'Testing' Set just the way we did for Training and Validation\n",
    "test_image_paths = list(test_path.glob(\"*/*\"))\n",
    "test_image_paths = list(map(lambda x : str(x) , test_image_paths))\n",
    "test_labels = list(map(lambda x : get_label(x) , test_image_paths))\n",
    "\n",
    "test_labels = Le.transform(test_labels)\n",
    "test_labels = tf.keras.utils.to_categorical(test_labels)\n",
    "\n",
    "test_image_paths = tf.convert_to_tensor(test_image_paths)\n",
    "test_labels = tf.convert_to_tensor(test_labels)\n",
    "\n",
    "def decode_image(image , label):\n",
    "    image = tf.io.read_file(image)\n",
    "    image = tf.io.decode_jpeg(image , channels = 3)\n",
    "    image = tf.image.resize(image , [96 , 96] , method=\"bilinear\")\n",
    "    return image , label\n",
    "\n",
    "test_dataset = (\n",
    "     tf.data.Dataset\n",
    "    .from_tensor_slices((test_image_paths, test_labels))\n",
    "    .map(decode_image)\n",
    "    .batch(BATCH_SIZE)\n",
    ")"
   ]
  },
  {
   "cell_type": "code",
   "execution_count": 39,
   "metadata": {
    "colab": {
     "base_uri": "https://localhost:8080/"
    },
    "executionInfo": {
     "elapsed": 399,
     "status": "ok",
     "timestamp": 1621683426411,
     "user": {
      "displayName": "Sumit Roll no. 109",
      "photoUrl": "https://lh3.googleusercontent.com/a-/AOh14GiLtX-kWa4n7-4D67wmtZ5bKcDiHm95-DtjB9ChvXw=s64",
      "userId": "03777397349419928585"
     },
     "user_tz": -330
    },
    "id": "uBIDOhxee0My",
    "outputId": "8211fbcc-672c-4eec-8c40-12a0bfc61c85"
   },
   "outputs": [
    {
     "name": "stdout",
     "output_type": "stream",
     "text": [
      "(32, 96, 96, 3)\n",
      "(32, 7)\n"
     ]
    }
   ],
   "source": [
    "# Verify Test Dataset Object\n",
    "image , label = next(iter(test_dataset))\n",
    "print(image.shape)\n",
    "print(label.shape)"
   ]
  },
  {
   "cell_type": "code",
   "execution_count": 40,
   "metadata": {
    "colab": {
     "base_uri": "https://localhost:8080/",
     "height": 302
    },
    "executionInfo": {
     "elapsed": 832,
     "status": "ok",
     "timestamp": 1621683459846,
     "user": {
      "displayName": "Sumit Roll no. 109",
      "photoUrl": "https://lh3.googleusercontent.com/a-/AOh14GiLtX-kWa4n7-4D67wmtZ5bKcDiHm95-DtjB9ChvXw=s64",
      "userId": "03777397349419928585"
     },
     "user_tz": -330
    },
    "id": "4ZGD3ogge2V-",
    "outputId": "2250560e-82ad-4019-d68e-84186bf2fe3d"
   },
   "outputs": [
    {
     "name": "stdout",
     "output_type": "stream",
     "text": [
      "fear\n"
     ]
    },
    {
     "data": {
      "text/plain": [
       "<matplotlib.image.AxesImage at 0x7f23a2abaa90>"
      ]
     },
     "execution_count": 40,
     "metadata": {
      "tags": []
     },
     "output_type": "execute_result"
    },
    {
     "data": {
      "image/png": "[encoded data removed]",
      "text/plain": [
       "<Figure size 432x288 with 1 Axes>"
      ]
     },
     "metadata": {
      "needs_background": "light",
      "tags": []
     },
     "output_type": "display_data"
    }
   ],
   "source": [
    "# View a sample Validation Image\n",
    "print(Le.inverse_transform(np.argmax(label , axis = 1))[0])\n",
    "plt.imshow((image[0].numpy()/255).reshape(96 , 96 , 3))"
   ]
  },
  {
   "cell_type": "code",
   "execution_count": 41,
   "metadata": {
    "colab": {
     "base_uri": "https://localhost:8080/"
    },
    "executionInfo": {
     "elapsed": 9318,
     "status": "ok",
     "timestamp": 1621683533011,
     "user": {
      "displayName": "Sumit Roll no. 109",
      "photoUrl": "https://lh3.googleusercontent.com/a-/AOh14GiLtX-kWa4n7-4D67wmtZ5bKcDiHm95-DtjB9ChvXw=s64",
      "userId": "03777397349419928585"
     },
     "user_tz": -330
    },
    "id": "H8nmdlL5e4LB",
    "outputId": "489ac3cf-5ab3-4b58-9de4-c58142a93b4e"
   },
   "outputs": [
    {
     "name": "stdout",
     "output_type": "stream",
     "text": [
      "225/225 [==============================] - 9s 26ms/step - loss: 1.1624 - accuracy: 0.5724 - precision: 0.6447 - recall: 0.5125\n",
      " Testing Acc :  0.6317915916442871\n",
      " Testing Precision  0.7056115865707397\n",
      " Testing Recall  0.5553078651428223\n"
     ]
    }
   ],
   "source": [
    "# Evaluating the loaded model\n",
    "loss, acc, prec, rec = model.evaluate(test_dataset)\n",
    "\n",
    "print(\" Testing Acc : \" , acc)\n",
    "print(\" Testing Precision \" , prec)\n",
    "print(\" Testing Recall \" , rec)"
   ]
  },
  {
   "cell_type": "code",
   "execution_count": 43,
   "metadata": {
    "executionInfo": {
     "elapsed": 452,
     "status": "ok",
     "timestamp": 1621683590294,
     "user": {
      "displayName": "Sumit Roll no. 109",
      "photoUrl": "https://lh3.googleusercontent.com/a-/AOh14GiLtX-kWa4n7-4D67wmtZ5bKcDiHm95-DtjB9ChvXw=s64",
      "userId": "03777397349419928585"
     },
     "user_tz": -330
    },
    "id": "6FG-gDVcaZgN"
   },
   "outputs": [],
   "source": [
    "# Save Model\n",
    "model.save(\"FacialExpressionModel.h5\")"
   ]
  },
  {
   "cell_type": "code",
   "execution_count": 46,
   "metadata": {
    "executionInfo": {
     "elapsed": 1278,
     "status": "ok",
     "timestamp": 1621683739751,
     "user": {
      "displayName": "Sumit Roll no. 109",
      "photoUrl": "https://lh3.googleusercontent.com/a-/AOh14GiLtX-kWa4n7-4D67wmtZ5bKcDiHm95-DtjB9ChvXw=s64",
      "userId": "03777397349419928585"
     },
     "user_tz": -330
    },
    "id": "_anLO5GWadh1"
   },
   "outputs": [],
   "source": [
    "# Save Label Encoder \n",
    "import pickle\n",
    "\n",
    "def save_object(obj , name):\n",
    "    pickle_obj = open(f\"{name}.pck\",\"wb\")\n",
    "    pickle.dump(obj, pickle_obj)\n",
    "    pickle_obj.close()"
   ]
  },
  {
   "cell_type": "code",
   "execution_count": 45,
   "metadata": {
    "executionInfo": {
     "elapsed": 383,
     "status": "ok",
     "timestamp": 1621683629888,
     "user": {
      "displayName": "Sumit Roll no. 109",
      "photoUrl": "https://lh3.googleusercontent.com/a-/AOh14GiLtX-kWa4n7-4D67wmtZ5bKcDiHm95-DtjB9ChvXw=s64",
      "userId": "03777397349419928585"
     },
     "user_tz": -330
    },
    "id": "5GiwShNva4Z4"
   },
   "outputs": [],
   "source": [
    "save_object(Le, \"LabelEncoder\")"
   ]
  }
 ],
 "metadata": {
  "accelerator": "GPU",
  "colab": {
   "authorship_tag": "ABX9TyPQt++4/yLUWyhMIWwUyGHI",
   "collapsed_sections": [],
   "name": "Correct_ExpressionRecognition_Training_Sumit.ipynb",
   "provenance": []
  },
  "kernelspec": {
   "display_name": "Python 3",
   "language": "python",
   "name": "python3"
  },
  "language_info": {
   "codemirror_mode": {
    "name": "ipython",
    "version": 3
   },
   "file_extension": ".py",
   "mimetype": "text/x-python",
   "name": "python",
   "nbconvert_exporter": "python",
   "pygments_lexer": "ipython3",
   "version": "3.6.8"
  }
 },
 "nbformat": 4,
 "nbformat_minor": 1
}
